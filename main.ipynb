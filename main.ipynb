{
 "cells": [
  {
   "cell_type": "markdown",
   "metadata": {
    "colab_type": "text",
    "id": "view-in-github"
   },
   "source": [
    "<a href=\"https://colab.research.google.com/github/VincentCsNv/SymbioseManagement/blob/main/main.ipynb\" target=\"_parent\"><img src=\"https://colab.research.google.com/assets/colab-badge.svg\" alt=\"Open In Colab\"/></a>"
   ]
  },
  {
   "cell_type": "code",
   "execution_count": 1,
   "metadata": {
    "colab": {
     "base_uri": "https://localhost:8080/"
    },
    "id": "igYT3Yn5RS1n",
    "outputId": "2ee15122-489f-4235-837d-b3ec8c3556c2"
   },
   "outputs": [],
   "source": [
    "!pip install rasterio laspy lazrs --quiet\n",
    "#!pip install pdal --quiet\n",
    "!pip install torch torchvision --quiet\n",
    "!pip install scikit-learn --quiet\n",
    "\n"
   ]
  },
  {
   "cell_type": "code",
   "execution_count": 2,
   "metadata": {},
   "outputs": [
    {
     "data": {
      "text/plain": [
       "<module 'lib.functions_utils' from '/Users/Vincent/Documents/2025/Projets_pro/Symbiose Management/SymbioseManagement/lib/functions_utils.py'>"
      ]
     },
     "execution_count": 2,
     "metadata": {},
     "output_type": "execute_result"
    }
   ],
   "source": [
    "import os\n",
    "import numpy as np\n",
    "import matplotlib.pyplot as plt\n",
    "import rasterio\n",
    "import laspy\n",
    "from pathlib import Path\n",
    "import glob \n",
    "import pandas as pd\n",
    "import lib.functions_utils as fu\n",
    "import torch\n",
    "import sklearn\n",
    "\n",
    "from importlib import reload\n",
    "reload(fu)"
   ]
  },
  {
   "cell_type": "code",
   "execution_count": 3,
   "metadata": {},
   "outputs": [],
   "source": [
    "DATA_dir = \"data/\"\n",
    "repartition = { 'train': 0.8, 'val': 0.1, 'test': 0.1}\n",
    "random_seed = 42"
   ]
  },
  {
   "cell_type": "markdown",
   "metadata": {},
   "source": [
    "# 1. Getting data :"
   ]
  },
  {
   "cell_type": "code",
   "execution_count": 75,
   "metadata": {},
   "outputs": [
    {
     "name": "stdout",
     "output_type": "stream",
     "text": [
      "Getting all the files .tiff and .laz path...\n",
      "Number of files : 17138\n",
      "==================================================\n",
      "🌳 Sample by species:\n",
      "  Picea_abies: 4074 samples (47.5%)\n",
      "  Castanea_sativa: 3684 samples (43.0%)\n",
      "  Abies_alba: 811 samples (9.5%)\n",
      "\n",
      "==================================================\n",
      "🎯 Dataset distribution:\n",
      "  train: 6855 samples (80.0%)\n",
      "  val: 857 samples (10.0%)\n",
      "  test: 857 samples (10.0%)\n",
      "\n",
      "==================================================\n",
      "\n",
      "🔍 Detailed distribution:\n",
      "\n",
      "🌳 Abies_alba:\n",
      "  train:  80.0% (attendu: 80%) ✅\n",
      "  val  :  10.0% (attendu: 10%) ✅\n",
      "  test :  10.0% (attendu: 10%) ✅\n",
      "\n",
      "🌳 Castanea_sativa:\n",
      "  train:  80.0% (attendu: 80%) ✅\n",
      "  val  :  10.0% (attendu: 10%) ✅\n",
      "  test :  10.0% (attendu: 10%) ✅\n",
      "\n",
      "🌳 Picea_abies:\n",
      "  train:  80.0% (attendu: 80%) ✅\n",
      "  val  :  10.0% (attendu: 10%) ✅\n",
      "  test :  10.0% (attendu: 10%) ✅\n"
     ]
    }
   ],
   "source": [
    "#Getting data information in a dataframe\n",
    "data_df = fu.extrating_data_to_df(DATA_dir)\n",
    "\n",
    "# Creating training/validation/test split based on repartion part\n",
    "data_df = fu.rep_df_train_test_val(data_df, repartition, random_seed)\n",
    "\n",
    "fu.detailed_distribution(data_df[data_df[\"type\"] == \"imagery\"]) #Visualization \n"
   ]
  },
  {
   "cell_type": "markdown",
   "metadata": {},
   "source": [
    "## Creating data loaders for imagery and lidar data"
   ]
  },
  {
   "cell_type": "code",
   "execution_count": null,
   "metadata": {},
   "outputs": [],
   "source": [
    "def create_dataloader(df,batch_size = 4, input_type = \"aerial\"):\n",
    "    \"\"\"\n",
    "    Create dataloaders for training, validation and testing.\n",
    "\n",
    "    Args:\n",
    "        df (pd.DataFrame): DataFrame containing file paths and labels.\n",
    "        batch_size (int): Batch size for the dataloaders.\n",
    "        input_type (str): Type of input data ('aerial', 'lidar', 'fusion').\n",
    "    Returns:\n",
    "        dict: dataloader\n",
    "    \"\"\"\n",
    "    #creating dataset \n",
    "    dataset = TreeDataset(df, input_type=input_type)\n",
    "\n",
    "    #creating dataloaders\n",
    "    dataloader = DataLoader(\n",
    "                dataset, \n",
    "                batch_size = batch_size, \n",
    "                shuffle=True,\n",
    "                num_workers=0\n",
    "            )\n",
    "\n",
    "    return dataloader\n",
    "\n",
    "\n",
    "class TreeDataset(torch.utils.data.Dataset):\n",
    "    def __init__(self, df, input_type='aerial', transform=None):\n",
    "        self.df = df\n",
    "        self.input_type = input_type\n",
    "        self.transform = transform\n",
    "        self.class_to_idx = {cls: idx for idx, cls in enumerate(df['species'].unique())}\n",
    "        self.idx_to_class = {idx: cls for cls, idx in self.class_to_idx.items()}\n",
    "        self.num_classes = len(self.class_to_idx)\n",
    "        \n",
    "    def __len__(self):\n",
    "        return len(self.df)\n",
    "    \n",
    "    def __getitem__(self, idx):\n",
    "        row = self.df.iloc[idx]\n",
    "        label = self.class_to_idx[row['species']]\n",
    "        \n",
    "        # Load aerial image\n",
    "        if self.input_type in ['aerial', 'fusion']:\n",
    "            inputs = self.load_aerial_image(row[\"aerial_path\"])\n",
    "        else:\n",
    "            inputs = self.load_lidar_data(row[\"lidar_path\"])\n",
    "\n",
    "        label = self.class_to_idx[row[\"species\"]]\n",
    "\n",
    "        return torch.tensor(inputs, dtype=torch.float32), torch.tensor(label, dtype=torch.long)\n",
    "\n",
    "    def load_aerial_image(self, path):\n",
    "        with rasterio.open(path) as src:\n",
    "            img = src.read()  # Lire toutes les bandes\n",
    "            img = np.transpose(img, (1, 2, 0))  # Convertir en HWC\n",
    "            img = img / 255.0  # Normalisation\n",
    "        return img\n",
    "    \n",
    "    def load_lidar_data(self, path):\n",
    "        with laspy.open(path) as fh:\n",
    "            las = fh.read()\n",
    "        return las"
   ]
  },
  {
   "cell_type": "code",
   "execution_count": 95,
   "metadata": {},
   "outputs": [],
   "source": [
    "dataloader = create_dataloader(\n",
    "    df=data_df, \n",
    "    batch_size=4,  # Ajuste selon ta RAM/GPU\n",
    "    input_type='aerial'  )\n",
    "\n",
    "inputs, labels =next(iter(dataloader))"
   ]
  }
 ],
 "metadata": {
  "colab": {
   "authorship_tag": "ABX9TyP665aIb/udW5ZKYqQYyc0g",
   "include_colab_link": true,
   "provenance": []
  },
  "kernelspec": {
   "display_name": "lidar",
   "language": "python",
   "name": "python3"
  },
  "language_info": {
   "codemirror_mode": {
    "name": "ipython",
    "version": 3
   },
   "file_extension": ".py",
   "mimetype": "text/x-python",
   "name": "python",
   "nbconvert_exporter": "python",
   "pygments_lexer": "ipython3",
   "version": "3.11.13"
  }
 },
 "nbformat": 4,
 "nbformat_minor": 0
}
