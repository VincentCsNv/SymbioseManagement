{
 "cells": [
  {
   "cell_type": "markdown",
   "metadata": {
    "colab_type": "text",
    "id": "view-in-github"
   },
   "source": [
    "<a href=\"https://colab.research.google.com/github/VincentCsNv/SymbioseManagement/blob/main/main.ipynb\" target=\"_parent\"><img src=\"https://colab.research.google.com/assets/colab-badge.svg\" alt=\"Open In Colab\"/></a>"
   ]
  },
  {
   "cell_type": "code",
   "execution_count": 101,
   "metadata": {
    "colab": {
     "base_uri": "https://localhost:8080/"
    },
    "id": "igYT3Yn5RS1n",
    "outputId": "2ee15122-489f-4235-837d-b3ec8c3556c2"
   },
   "outputs": [],
   "source": [
    "!pip install rasterio laspy lazrs --quiet\n",
    "#!pip install pdal --quiet\n",
    "!pip install torch torchvision --quiet\n",
    "!pip install scikit-learn --quiet\n",
    "!pip install tqdm --quiet\n",
    "!pip install torchsummary --quiet\n"
   ]
  },
  {
   "cell_type": "code",
   "execution_count": 153,
   "metadata": {},
   "outputs": [
    {
     "data": {
      "text/plain": [
       "<module 'lib.models' from '/Users/Vincent/Documents/2025/Projets_pro/Symbiose Management/SymbioseManagement/lib/models.py'>"
      ]
     },
     "execution_count": 153,
     "metadata": {},
     "output_type": "execute_result"
    }
   ],
   "source": [
    "import os\n",
    "import numpy as np\n",
    "import matplotlib.pyplot as plt\n",
    "import rasterio\n",
    "import laspy\n",
    "from pathlib import Path\n",
    "import glob \n",
    "import pandas as pd\n",
    "import lib.functions_utils as fu\n",
    "import lib.models as models\n",
    "import torch\n",
    "import sklearn\n",
    "from torch.utils.data import DataLoader\n",
    "from torchsummary import summary\n",
    "\n",
    "\n",
    "from importlib import reload\n",
    "reload(fu)\n",
    "reload(models)"
   ]
  },
  {
   "cell_type": "code",
   "execution_count": 92,
   "metadata": {},
   "outputs": [],
   "source": [
    "DATA_dir = \"data_light/\"\n",
    "repartition = { 'train': 0.8, 'val': 0.1, 'test': 0.1}\n",
    "random_seed = 42"
   ]
  },
  {
   "cell_type": "markdown",
   "metadata": {},
   "source": [
    "# I. Data :"
   ]
  },
  {
   "cell_type": "markdown",
   "metadata": {},
   "source": [
    "## A. Collect data in dataframes:"
   ]
  },
  {
   "cell_type": "code",
   "execution_count": 93,
   "metadata": {},
   "outputs": [
    {
     "name": "stdout",
     "output_type": "stream",
     "text": [
      "Getting all the files .tiff and .laz path...\n",
      "Number of files : 244\n"
     ]
    }
   ],
   "source": [
    "#Getting data information in a dataframe\n",
    "data_df = fu.extrating_data_to_df(DATA_dir, repartition = repartition, random_seed = random_seed, new_rep = True)\n",
    "#fu.detailed_distribution(data_df[data_df[\"type\"] == \"imagery\"]) #Visualization \n"
   ]
  },
  {
   "cell_type": "markdown",
   "metadata": {},
   "source": [
    "## B. DataLoader Creation :"
   ]
  },
  {
   "cell_type": "code",
   "execution_count": 124,
   "metadata": {},
   "outputs": [],
   "source": [
    "batch_size = 2\n",
    "input_type = 'imagery'  # 'imagery' or 'lidar'\n",
    "transform = None  # Add any data augmentation or preprocessing transforms if needed"
   ]
  },
  {
   "cell_type": "code",
   "execution_count": 135,
   "metadata": {},
   "outputs": [
    {
     "name": "stdout",
     "output_type": "stream",
     "text": [
      "Input batch shape: torch.Size([2, 4, 128, 128])\n",
      "Label batch shape: torch.Size([2])\n"
     ]
    }
   ],
   "source": [
    "train_dataloader = fu.create_dataloader( df=data_df[data_df[\"dataset\"]==\"train\"],  batch_size=batch_size, input_type=input_type, transform=transform)\n",
    "val_dataloader = fu.create_dataloader( df=data_df[data_df[\"dataset\"]==\"val\"],  batch_size=batch_size, input_type=input_type, transform=transform)\n",
    "\n",
    "#test\n",
    "inputs, labels = next(iter(train_dataloader))\n",
    "print(f'Input batch shape: {inputs.shape}')\n",
    "print(f'Label batch shape: {labels.shape}')"
   ]
  },
  {
   "cell_type": "markdown",
   "metadata": {},
   "source": [
    "# II. Model training : "
   ]
  },
  {
   "cell_type": "code",
   "execution_count": 140,
   "metadata": {},
   "outputs": [
    {
     "name": "stdout",
     "output_type": "stream",
     "text": [
      "----------------------------------------------------------------\n",
      "        Layer (type)               Output Shape         Param #\n",
      "================================================================\n",
      "            Conv2d-1         [-1, 16, 128, 128]             592\n",
      "              ReLU-2         [-1, 16, 128, 128]               0\n",
      "         MaxPool2d-3           [-1, 16, 64, 64]               0\n",
      "            Conv2d-4           [-1, 32, 64, 64]           4,640\n",
      "              ReLU-5           [-1, 32, 64, 64]               0\n",
      "         MaxPool2d-6           [-1, 32, 32, 32]               0\n",
      "            Conv2d-7           [-1, 64, 32, 32]          18,496\n",
      "              ReLU-8           [-1, 64, 32, 32]               0\n",
      "         MaxPool2d-9           [-1, 64, 16, 16]               0\n",
      "           Conv2d-10          [-1, 128, 16, 16]          73,856\n",
      "             ReLU-11          [-1, 128, 16, 16]               0\n",
      "        MaxPool2d-12            [-1, 128, 8, 8]               0\n",
      "           Linear-13                  [-1, 256]       2,097,408\n",
      "          Dropout-14                  [-1, 256]               0\n",
      "           Linear-15                    [-1, 3]             771\n",
      "================================================================\n",
      "Total params: 2,195,763\n",
      "Trainable params: 2,195,763\n",
      "Non-trainable params: 0\n",
      "----------------------------------------------------------------\n",
      "Input size (MB): 0.25\n",
      "Forward/backward pass size (MB): 8.44\n",
      "Params size (MB): 8.38\n",
      "Estimated Total Size (MB): 17.07\n",
      "----------------------------------------------------------------\n"
     ]
    }
   ],
   "source": [
    "model = models.convnet(nb_class=train_dataloader.dataset.num_classes)\n",
    "summary(model, input_size=(4,128,128))  # Exclude batch size for input_size"
   ]
  },
  {
   "cell_type": "code",
   "execution_count": 144,
   "metadata": {},
   "outputs": [
    {
     "name": "stderr",
     "output_type": "stream",
     "text": [
      "training in progress:  33%|███▎      | 1/3 [00:08<00:17,  8.51s/it]"
     ]
    },
    {
     "name": "stdout",
     "output_type": "stream",
     "text": [
      "Number of epochs: 1 | Validation loss : 0.6340073943138123  | Training loss : 0.6959946155548096  |   Training accuracy: 0.5 validation accuracy : 0.8333333134651184\n"
     ]
    },
    {
     "name": "stderr",
     "output_type": "stream",
     "text": [
      "training in progress:  67%|██████▋   | 2/3 [00:14<00:06,  6.92s/it]"
     ]
    },
    {
     "name": "stdout",
     "output_type": "stream",
     "text": [
      "Number of epochs: 2 | Validation loss : 0.5561723113059998  | Training loss : 0.5992929339408875  |   Training accuracy: 0.5 validation accuracy : 0.6666666865348816\n"
     ]
    },
    {
     "name": "stderr",
     "output_type": "stream",
     "text": [
      "training in progress: 100%|██████████| 3/3 [00:20<00:00,  6.92s/it]"
     ]
    },
    {
     "name": "stdout",
     "output_type": "stream",
     "text": [
      "Number of epochs: 3 | Validation loss : 0.5062160491943359  | Training loss : 0.5228444933891296  |   Training accuracy: 1.0 validation accuracy : 0.5833333134651184\n"
     ]
    },
    {
     "name": "stderr",
     "output_type": "stream",
     "text": [
      "\n"
     ]
    }
   ],
   "source": [
    "results = models.train(model,train_dataloader,val_dataloader,\n",
    "             epochs=3, \n",
    "             max_lr=0.001, \n",
    "             loss_func = torch.nn.CrossEntropyLoss(),\n",
    "             optim = \"Adam\")"
   ]
  },
  {
   "cell_type": "code",
   "execution_count": 154,
   "metadata": {},
   "outputs": [
    {
     "data": {
      "image/png": "[encoded data removed]",
      "text/plain": [
       "<Figure size 1200x300 with 3 Axes>"
      ]
     },
     "metadata": {},
     "output_type": "display_data"
    }
   ],
   "source": [
    "\n",
    "\n",
    "#Getting and plot metrics\n",
    "plt.figure(figsize=(12,3))\n",
    "epoch = 3\n",
    "tr_acc,ts_acc,tr_loss,ts_loss,lr,epoch_count = fu.getting_metrics(results,epoch)\n",
    "fu.plot_all_metrics(tr_acc,ts_acc,tr_loss,ts_loss,lr,epoch_count,epoch)\n"
   ]
  },
  {
   "cell_type": "markdown",
   "metadata": {},
   "source": [
    "# III. Evaluate the model:"
   ]
  },
  {
   "cell_type": "code",
   "execution_count": null,
   "metadata": {},
   "outputs": [
    {
     "data": {
      "text/plain": [
       "torch.Size([2, 4, 250, 250])"
      ]
     },
     "execution_count": 130,
     "metadata": {},
     "output_type": "execute_result"
    }
   ],
   "source": [
    "\n",
    "#Functions :\n",
    "def eval_test(model_eval,testloader,OPTION_eval = \"A\",GPU =False,all_info =False):\n",
    "  model_eval.eval()\n",
    "  batch_losses, batch_accs=[],[]\n",
    "  all_predictions, all_labels = [], []  # Pour la matrice de confusion\n",
    "  i=0\n",
    "\n",
    "  for images,labels in testloader:\n",
    "    labels = convert_labels(labels,eq_df,old_label=\"label\",new_label=f\"label_{OPTION_eval}\",GPU=GPU)\n",
    "    predicted=model_eval(images)\n",
    "    batch_losses.append(loss_func(predicted,labels))\n",
    "    if OPTION_eval == \"A\":\n",
    "      batch_accs.append(accuracy(predicted,labels,GPU=GPU))\n",
    "    elif OPTION_eval == \"B\":\n",
    "      batch_accs.append(accuracy_B(predicted,labels,GPU=GPU))\n",
    "\n",
    "    # Collecter pour matrice de confusion\n",
    "    _, preds = torch.max(predicted, 1)  # Classes prédites\n",
    "    if OPTION_eval ==\"B\":\n",
    "      preds = convert_labels(preds,eq_df,old_label=\"label_B\",new_label=\"label_A\",GPU=GPU)\n",
    "      labels = convert_labels(labels,eq_df,old_label=\"label_B\",new_label=\"label_A\",GPU=GPU)\n",
    "    all_predictions.extend(preds.cpu().numpy())#all_predictions.extend(preds.cpu().numpy())\n",
    "    all_labels.extend(labels.cpu().numpy()) #   all_labels.extend(labels.cpu().numpy())\n",
    "  if all_info:\n",
    "    print(classification_report(all_labels, all_predictions))\n",
    "  #print accuracy\n",
    "  print(f\"Accuracy {OPTION_eval}: {accuracy_score(all_labels, all_predictions)}\")\n",
    "  return all_predictions, all_labels\n",
    "from sklearn.metrics import accuracy_score\n",
    "\n",
    "def plot_confusion_matrix(cm,SUPER_CLASSES,all_info = False,label=\"\"):\n",
    "  # Plot de la matrice de confusion\n",
    "  class_names = SUPER_CLASSES\n",
    "  #plt.figure(figsize=(4, 4))\n",
    "  sns.heatmap(cm, annot=True, fmt='d', cmap='Blues',xticklabels=class_names,yticklabels=class_names)\n",
    "  plt.title(f'Matrice de Confusion {label}')\n",
    "  plt.ylabel('Vraies labels')\n",
    "  plt.xlabel('Prédictions')\n",
    "\n",
    "  def predict_img(img,model,mode = \"A\",GPU=\"false\"):\n",
    "  model.eval()\n",
    "  img = img.unsqueeze(0)\n",
    "  if GPU:\n",
    "    img = move_device(img, device)\n",
    "  yb = model(img)\n",
    "  _, pred = torch.max(yb, dim=1)\n",
    "  if mode == \"A\":\n",
    "    pred = pred.item()\n",
    "  elif mode == \"B\":\n",
    "    pred = convert_labels(pred,eq_df,old_label=\"label_B\",new_label=\"label_A\",GPU = GPU)\n",
    "    pred = pred.item()\n",
    "  return pred\n",
    "\n",
    "def predict_and_show(img,label,model,mode = \"A\",GPU = \"False\"):\n",
    "  pred = predict_img(img,model,mode=mode,GPU=GPU)\n",
    "  #Getting Super Class name from ground truth and prediction\n",
    "  pred_sc = eq_df[eq_df[f\"label_{mode}\"]==pred][\"superclass\"].values[0]\n",
    "  label_sc = eq_df[eq_df[\"label\"]==label][\"superclass\"].values[0]\n",
    "  if GPU:\n",
    "    img = img.cpu()\n",
    "  img=img*0.5 +0.5 #Denormalize the img\n",
    "  plt.imshow(img.permute(1, 2, 0))\n",
    "  plt.title(f\"gt: {label_sc}, pred :{pred_sc} \")\n",
    "  return pred"
   ]
  },
  {
   "cell_type": "code",
   "execution_count": null,
   "metadata": {},
   "outputs": [],
   "source": [
    "#PARAMETERS and CKP option A\n",
    "OPTION_eval = \"A\"\n",
    "MODEL_eval = \"conv\"\n",
    "PATH_CKP = '/content/model_A_optim_Adam_best_epoch_weights.pth'\n",
    "\n",
    "print(\"Evaluation of model A\")\n",
    "model_eval_A = set_model(MODEL_eval,OPTION_eval,SUPER_CLASSES,train_df,GPU=GPU,FROM_CKP = True,CKP_PATH = PATH_CKP)\n",
    "all_predictions_A, all_labels_A = eval_test(model_eval_A,testloader,OPTION_eval=OPTION_eval)\n",
    "cm_A =   confusion_matrix(all_labels_A, all_predictions_A)\n",
    "\n",
    "#PARAMETERS and CKP option B\n",
    "OPTION_eval = \"B\"\n",
    "MODEL_eval = \"conv\"\n",
    "PATH_CKP = '/content/model_B_optim_Adam_best_epoch_weights.pth'\n",
    "\n",
    "print(\"Evaluation of model B\")\n",
    "model_eval_B = set_model(MODEL_eval,OPTION_eval,SUPER_CLASSES,train_df,GPU=GPU,FROM_CKP = True,CKP_PATH = PATH_CKP)\n",
    "all_predictions_B, all_labels_B = eval_test(model_eval_B,testloader,OPTION_eval=OPTION_eval)\n",
    "cm_B =   confusion_matrix(all_labels_B, all_predictions_B)\n"
   ]
  },
  {
   "cell_type": "code",
   "execution_count": null,
   "metadata": {},
   "outputs": [],
   "source": [
    "plt.figure(figsize=(12,6))\n",
    "#Option A\n",
    "plt.subplot(1,2,1)\n",
    "plot_confusion_matrix(cm_A,SUPER_CLASSES,label=\"A\")\n",
    "#Option B\n",
    "plt.subplot(1,2,2)\n",
    "plot_confusion_matrix(cm_B,SUPER_CLASSES,label =\"B\")"
   ]
  }
 ],
 "metadata": {
  "colab": {
   "authorship_tag": "ABX9TyP665aIb/udW5ZKYqQYyc0g",
   "include_colab_link": true,
   "provenance": []
  },
  "kernelspec": {
   "display_name": "lidar",
   "language": "python",
   "name": "python3"
  },
  "language_info": {
   "codemirror_mode": {
    "name": "ipython",
    "version": 3
   },
   "file_extension": ".py",
   "mimetype": "text/x-python",
   "name": "python",
   "nbconvert_exporter": "python",
   "pygments_lexer": "ipython3",
   "version": "3.11.13"
  }
 },
 "nbformat": 4,
 "nbformat_minor": 0
}
